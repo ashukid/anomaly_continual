{
 "cells": [
  {
   "cell_type": "code",
   "execution_count": 1,
   "metadata": {},
   "outputs": [],
   "source": [
    "import numpy as np\n",
    "import pandas as pd\n",
    "import matplotlib.pyplot as plt"
   ]
  },
  {
   "cell_type": "markdown",
   "metadata": {},
   "source": [
    "# Combining"
   ]
  },
  {
   "cell_type": "code",
   "execution_count": 2,
   "metadata": {},
   "outputs": [
    {
     "data": {
      "text/plain": [
       "((4046, 188), (10506, 188), (87554, 188), (21892, 188))"
      ]
     },
     "execution_count": 2,
     "metadata": {},
     "output_type": "execute_result"
    }
   ],
   "source": [
    "ptdb_normal=pd.read_csv(\"heartbeat/ptbdb_normal.csv\",header=None)\n",
    "ptdb_abnormal=pd.read_csv(\"heartbeat/ptbdb_abnormal.csv\",header=None)\n",
    "ptdb_normal.iloc[:,187]=0\n",
    "ptdb_abnormal.iloc[:,187]=1\n",
    "\n",
    "mitbih_train=pd.read_csv(\"heartbeat/mitbih_train.csv\",header=None)\n",
    "mitbih_test=pd.read_csv(\"heartbeat/mitbih_test.csv\",header=None)\n",
    "mitbih_train.replace([1, 2, 3,4], 1,inplace=True)\n",
    "mitbih_test.replace([1, 2, 3,4], 1,inplace=True)\n",
    "\n",
    "ptdb_normal.shape,ptdb_abnormal.shape,mitbih_train.shape,mitbih_test.shape"
   ]
  },
  {
   "cell_type": "markdown",
   "metadata": {},
   "source": [
    "## for anomaly"
   ]
  },
  {
   "cell_type": "code",
   "execution_count": 3,
   "metadata": {},
   "outputs": [],
   "source": [
    "def save_csv(normal_train,normal_valid,patient_valid,path):\n",
    "    \n",
    "    df_normal_train=pd.DataFrame(normal_train)\n",
    "    df_normal_valid=pd.DataFrame(normal_valid)\n",
    "    df_patient_valid=pd.DataFrame(patient_valid)\n",
    "\n",
    "\n",
    "    df_normal_train.to_csv(path+\"/normal_train.csv\",index=False)\n",
    "    df_normal_valid.to_csv(path+\"/normal_valid.csv\",index=False)\n",
    "    df_patient_valid.to_csv(path+\"/patient_valid.csv\",index=False)"
   ]
  },
  {
   "cell_type": "code",
   "execution_count": 4,
   "metadata": {},
   "outputs": [
    {
     "name": "stdout",
     "output_type": "stream",
     "text": [
      "(3926, 188) (120, 188) (120, 188)\n"
     ]
    }
   ],
   "source": [
    "normal=ptdb_normal.values\n",
    "normal_train=normal[120:]\n",
    "normal_valid=normal[:120]\n",
    "patient_valid=ptdb_abnormal.values[:120]\n",
    "print(normal_train.shape,normal_valid.shape,patient_valid.shape)\n",
    "\n",
    "save_csv(normal_train,normal_valid,patient_valid,\"./input/ecgdatasets/anomaly/ptdb\")"
   ]
  },
  {
   "cell_type": "code",
   "execution_count": 37,
   "metadata": {},
   "outputs": [
    {
     "name": "stdout",
     "output_type": "stream",
     "text": [
      "(4000, 188) (120, 188) (120, 188)\n"
     ]
    }
   ],
   "source": [
    "normal_train=mitbih_train[mitbih_train[187]==0][:4000]\n",
    "normal_valid=mitbih_test[mitbih_test[187]==0][:120]\n",
    "patient_valid=mitbih_test.values[mitbih_test[187]==1][:120]\n",
    "\n",
    "print(normal_train.shape,normal_valid.shape,patient_valid.shape)\n",
    "\n",
    "save_csv(normal_train,normal_valid,patient_valid,\"./input/ecgdatasets/anomaly/mit\")"
   ]
  },
  {
   "cell_type": "code",
   "execution_count": 38,
   "metadata": {},
   "outputs": [],
   "source": [
    "#amplyfying signals for mit dataset\n",
    "import random\n",
    "\n",
    "for i in range(len(normal_valid)):\n",
    "    d=normal_valid.iloc[i,:187]\n",
    "    rand=random.random()\n",
    "    if(rand>0.5):\n",
    "        #increased heart rate\n",
    "        c=random.random()\n",
    "        for j in range(187):\n",
    "            if(int(j/c)>=187):\n",
    "                for k in range(j,187):\n",
    "                    d[k]=0\n",
    "                break\n",
    "            d[j]=d[int(j/c)]\n",
    "    else:\n",
    "        #amplify signal\n",
    "        c=random.randint(1,10)\n",
    "        for j in range(187):\n",
    "            d[j]=d[j]*2\n",
    "            \n",
    "    normal_valid.iloc[i,:187]=d\n",
    "    normal_valid.iloc[:,-1]=1"
   ]
  },
  {
   "cell_type": "code",
   "execution_count": 39,
   "metadata": {},
   "outputs": [],
   "source": [
    "new_normal_valid=mitbih_test[mitbih_test[187]==0][:120]\n",
    "save_csv(normal_train,new_normal_valid,normal_valid,\"./input/ecgdatasets/anomaly/mit_amplified\")"
   ]
  },
  {
   "cell_type": "markdown",
   "metadata": {},
   "source": [
    "## for classification"
   ]
  },
  {
   "cell_type": "code",
   "execution_count": 41,
   "metadata": {},
   "outputs": [
    {
     "name": "stdout",
     "output_type": "stream",
     "text": [
      "(6000, 188) (200, 188)\n"
     ]
    }
   ],
   "source": [
    "df_train1=mitbih_train[mitbih_train.iloc[:,-1]==1].iloc[:3000,:]\n",
    "df_train2=mitbih_train[mitbih_train.iloc[:,-1]==0].iloc[:3000,:]\n",
    "df_train=pd.DataFrame(np.vstack((df_train1.values,df_train2.values)))\n",
    "df_train = df_train.sample(frac=1).reset_index(drop=True)\n",
    "\n",
    "df_test1=mitbih_test[mitbih_test.iloc[:,-1]==1].iloc[:100,:]\n",
    "df_test2=mitbih_test[mitbih_test.iloc[:,-1]==0].iloc[:100,:]\n",
    "df_test=pd.DataFrame(np.vstack((df_test1.values,df_test2.values)))\n",
    "df_test = df_test.sample(frac=1).reset_index(drop=True)\n",
    "\n",
    "\n",
    "print(df_train.shape,df_test.shape)"
   ]
  },
  {
   "cell_type": "code",
   "execution_count": 42,
   "metadata": {},
   "outputs": [
    {
     "data": {
      "text/plain": [
       "0.0    3000\n",
       "1.0    3000\n",
       "Name: 187, dtype: int64"
      ]
     },
     "execution_count": 42,
     "metadata": {},
     "output_type": "execute_result"
    }
   ],
   "source": [
    "df_train.iloc[:,-1].value_counts()"
   ]
  },
  {
   "cell_type": "code",
   "execution_count": 43,
   "metadata": {},
   "outputs": [],
   "source": [
    "df_train.to_csv(\"./input/ecgdatasets/classification/mit/train.csv\",index=False)\n",
    "df_test.to_csv(\"./input/ecgdatasets/classification/mit/test.csv\",index=False)"
   ]
  },
  {
   "cell_type": "code",
   "execution_count": 44,
   "metadata": {},
   "outputs": [
    {
     "name": "stdout",
     "output_type": "stream",
     "text": [
      "(200, 188)\n"
     ]
    }
   ],
   "source": [
    "#amplyfying signals for mit dataset\n",
    "import random\n",
    "\n",
    "for i in range(len(df_test2)):\n",
    "    d=df_test2.iloc[i,:187]\n",
    "    rand=random.random()\n",
    "    if(rand>0.5):\n",
    "        #increased heart rate\n",
    "        c=random.random()\n",
    "        for j in range(187):\n",
    "            if(int(j/c)>=187):\n",
    "                for k in range(j,187):\n",
    "                    d[k]=0\n",
    "                break\n",
    "            d[j]=d[int(j/c)]\n",
    "    else:\n",
    "        #amplify signal\n",
    "        c=random.randint(1,10)\n",
    "        for j in range(187):\n",
    "            d[j]=d[j]*2\n",
    "            \n",
    "    df_test2.iloc[i,:187]=d\n",
    "\n",
    "df_test2.iloc[:,-1]=1\n",
    "df_test3=mitbih_test[mitbih_test.iloc[:,-1]==0].iloc[:100,:]\n",
    "df_test=pd.DataFrame(np.vstack((df_test3.values,df_test2.values)))\n",
    "df_test = df_test.sample(frac=1).reset_index(drop=True)\n",
    "\n",
    "\n",
    "print(df_test.shape)"
   ]
  },
  {
   "cell_type": "code",
   "execution_count": 45,
   "metadata": {},
   "outputs": [],
   "source": [
    "df_train.to_csv(\"./input/ecgdatasets/classification/mit_amplified/train.csv\",index=False)\n",
    "df_test.to_csv(\"./input/ecgdatasets/classification/mit_amplified/test.csv\",index=False)"
   ]
  },
  {
   "cell_type": "code",
   "execution_count": 27,
   "metadata": {},
   "outputs": [
    {
     "name": "stdout",
     "output_type": "stream",
     "text": [
      "(6000, 188) (200, 188)\n"
     ]
    }
   ],
   "source": [
    "p1=ptdb_normal.iloc[:3000,:]\n",
    "p2=ptdb_abnormal.iloc[:3000,:]\n",
    "\n",
    "df_train = pd.DataFrame(np.vstack((p1.values,p2.values)))\n",
    "df_train = df_train.sample(frac=1).reset_index(drop=True)\n",
    "\n",
    "p1=ptdb_normal.iloc[3000:3100,:]\n",
    "p2=ptdb_abnormal.iloc[3000:3100,:]\n",
    "\n",
    "df_test = pd.DataFrame(np.vstack((p1.values,p2.values)))\n",
    "df_test = df_test.sample(frac=1).reset_index(drop=True)\n",
    "\n",
    "print(df_train.shape,df_test.shape)"
   ]
  },
  {
   "cell_type": "code",
   "execution_count": 28,
   "metadata": {},
   "outputs": [
    {
     "data": {
      "text/plain": [
       "0.0    3000\n",
       "1.0    3000\n",
       "Name: 187, dtype: int64"
      ]
     },
     "execution_count": 28,
     "metadata": {},
     "output_type": "execute_result"
    }
   ],
   "source": [
    "df_train.iloc[:,-1].value_counts()"
   ]
  },
  {
   "cell_type": "code",
   "execution_count": 29,
   "metadata": {},
   "outputs": [],
   "source": [
    "df_train.to_csv(\"./input/ecgdatasets/classification/ptdb/train.csv\",index=False)\n",
    "df_test.to_csv(\"./input/ecgdatasets/classification/ptdb/test.csv\",index=False)"
   ]
  },
  {
   "cell_type": "code",
   "execution_count": null,
   "metadata": {},
   "outputs": [],
   "source": []
  }
 ],
 "metadata": {
  "kernelspec": {
   "display_name": "Python 3",
   "language": "python",
   "name": "python3"
  },
  "language_info": {
   "codemirror_mode": {
    "name": "ipython",
    "version": 3
   },
   "file_extension": ".py",
   "mimetype": "text/x-python",
   "name": "python",
   "nbconvert_exporter": "python",
   "pygments_lexer": "ipython3",
   "version": "3.7.3"
  }
 },
 "nbformat": 4,
 "nbformat_minor": 2
}
