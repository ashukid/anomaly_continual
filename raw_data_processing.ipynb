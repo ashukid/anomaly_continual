{
 "cells": [
  {
   "cell_type": "code",
   "execution_count": 2,
   "metadata": {},
   "outputs": [],
   "source": [
    "import scipy\n",
    "import os,sys,csv\n",
    "import pandas as pd\n",
    "import numpy as np\n",
    "import matplotlib.pyplot as plt\n",
    "from scipy.signal import medfilt,find_peaks\n",
    "\n",
    "# %%%"
   ]
  },
  {
   "cell_type": "code",
   "execution_count": 11,
   "metadata": {},
   "outputs": [],
   "source": [
    "def data_processing(data_loc, file_loc):\n",
    "    files = os.listdir(data_loc)\n",
    "    print(\"total files : {}\".format(len(files)))\n",
    "    Data = []\n",
    "\n",
    "    for name in files:\n",
    "        full_path = os.path.join(data_loc, name)\n",
    "        file_data = pd.read_csv(full_path, sep=\" \", header = None)\n",
    "        df = pd.DataFrame(file_data)\n",
    "\n",
    "        ##.......Reducing Baseline from 365 to 0.......##\n",
    "    \n",
    "        MLII = list(df[5])\n",
    "        baseline = medfilt(MLII, 71) \n",
    "        baseline = medfilt(baseline, 215) \n",
    "\n",
    "        # Remove Baseline\n",
    "        for i in range(0, len(MLII)):\n",
    "            MLII[i] = MLII[i] - baseline[i]\n",
    "    \n",
    "        ##.....Renovel of High Freq. Noise.....##\n",
    "    \n",
    "        df[5] = scipy.signal.savgol_filter(MLII, window_length = 7, polyorder = 2, deriv=0, delta=1.0, axis=-1, mode='interp', cval=0.0)\n",
    "        df[5] = (df[5]-df[5].min())/(df[5].max()-df[5].min())\n",
    "        \n",
    "        \n",
    "        peak_index=find_peaks(df[5],height=[0.8,1])[0]\n",
    "        \n",
    "        for i in range (min(len(peak_index),100)-1):\n",
    "        \n",
    "            if(name[0] == 'p'):\n",
    "                label=1\n",
    "            else:\n",
    "                label=0\n",
    "            \n",
    "            \n",
    "            d = df[5].values.tolist()[peak_index[i]:peak_index[i+1]]\n",
    "            remain=187-len(d)\n",
    "            if(remain>0):\n",
    "                d.extend([0]*remain)\n",
    "            else:\n",
    "                d=d[:187]\n",
    "            d.append(label)\n",
    "            Data.append(d)\n",
    "            \n",
    "    my_df = pd.DataFrame(Data)\n",
    "    my_df.to_csv(file_loc, encoding='utf-8', index=False)\n",
    "\n",
    "# %%%"
   ]
  },
  {
   "cell_type": "code",
   "execution_count": 12,
   "metadata": {},
   "outputs": [],
   "source": [
    "patient = 'heartbeat/ecg_patient.csv'\n",
    "normal = 'heartbeat/ecg_normal.csv'"
   ]
  },
  {
   "cell_type": "code",
   "execution_count": 13,
   "metadata": {
    "scrolled": true
   },
   "outputs": [
    {
     "name": "stdout",
     "output_type": "stream",
     "text": [
      "Data Processing for normal ............\n",
      "total files : 247\n",
      "Data Processing for patient ............\n",
      "total files : 53\n"
     ]
    }
   ],
   "source": [
    "fold_name = 'heartbeat/ecg_normal'\n",
    "print('Data Processing for normal ............')\n",
    "data_processing(fold_name, normal)\n",
    "\n",
    "fold_name = 'heartbeat/ecg_patient'\n",
    "print('Data Processing for patient ............')\n",
    "data_processing(fold_name, patient)"
   ]
  },
  {
   "cell_type": "markdown",
   "metadata": {},
   "source": [
    "## data for anomaly detection"
   ]
  },
  {
   "cell_type": "code",
   "execution_count": 14,
   "metadata": {},
   "outputs": [],
   "source": [
    "df_patient=pd.read_csv(\"heartbeat/ecg_patient.csv\")\n",
    "df_normal=pd.read_csv(\"heartbeat/ecg_normal.csv\")"
   ]
  },
  {
   "cell_type": "code",
   "execution_count": 15,
   "metadata": {},
   "outputs": [
    {
     "data": {
      "text/plain": [
       "((2900, 188), (22365, 188))"
      ]
     },
     "execution_count": 15,
     "metadata": {},
     "output_type": "execute_result"
    }
   ],
   "source": [
    "df_patient.shape,df_normal.shape"
   ]
  },
  {
   "cell_type": "code",
   "execution_count": 6,
   "metadata": {},
   "outputs": [],
   "source": [
    "df_normal_train=df_normal.iloc[:4000]\n",
    "df_normal_valid=df_normal.iloc[4000:4120]\n",
    "df_patient=df_patient.iloc[:120]"
   ]
  },
  {
   "cell_type": "code",
   "execution_count": 7,
   "metadata": {},
   "outputs": [],
   "source": [
    "df_normal_train.to_csv('./input/anomaly/inhouse/normal_train.csv', encoding='utf-8', index=False)\n",
    "df_normal_valid.to_csv('./input/anomaly/inhouse/normal_valid.csv', encoding='utf-8', index=False)\n",
    "df_patient.to_csv('./input/anomaly/inhouse/patient_valid.csv', encoding='utf-8', index=False)"
   ]
  },
  {
   "cell_type": "markdown",
   "metadata": {},
   "source": [
    "## data for classification"
   ]
  },
  {
   "cell_type": "code",
   "execution_count": 16,
   "metadata": {},
   "outputs": [],
   "source": [
    "df_patient=pd.read_csv(\"heartbeat/ecg_patient.csv\")\n",
    "df_normal=pd.read_csv(\"heartbeat/ecg_normal.csv\")"
   ]
  },
  {
   "cell_type": "code",
   "execution_count": 17,
   "metadata": {},
   "outputs": [
    {
     "data": {
      "text/plain": [
       "((2900, 188), (22365, 188))"
      ]
     },
     "execution_count": 17,
     "metadata": {},
     "output_type": "execute_result"
    }
   ],
   "source": [
    "df_patient.shape,df_normal.shape"
   ]
  },
  {
   "cell_type": "code",
   "execution_count": 18,
   "metadata": {},
   "outputs": [
    {
     "name": "stdout",
     "output_type": "stream",
     "text": [
      "(5800, 188) (200, 188)\n"
     ]
    }
   ],
   "source": [
    "df_train=np.vstack((df_patient.values[:2800],df_normal.values[:3000]))\n",
    "df_train=pd.DataFrame(df_train)\n",
    "df_train = df_train.sample(frac=1).reset_index(drop=True)\n",
    "\n",
    "df_test=np.vstack((df_patient.values[2800:2900],df_normal.values[3000:3100]))\n",
    "df_test=pd.DataFrame(df_test)\n",
    "df_test = df_test.sample(frac=1).reset_index(drop=True)\n",
    "\n",
    "print(df_train.shape,df_test.shape)\n",
    "df_train.to_csv(\"./input/classification/inhouse/train.csv\",index=False)\n",
    "df_test.to_csv(\"./input/classification/inhouse/test.csv\",index=False)"
   ]
  },
  {
   "cell_type": "code",
   "execution_count": null,
   "metadata": {},
   "outputs": [],
   "source": []
  }
 ],
 "metadata": {
  "kernelspec": {
   "display_name": "Python 3",
   "language": "python",
   "name": "python3"
  },
  "language_info": {
   "codemirror_mode": {
    "name": "ipython",
    "version": 3
   },
   "file_extension": ".py",
   "mimetype": "text/x-python",
   "name": "python",
   "nbconvert_exporter": "python",
   "pygments_lexer": "ipython3",
   "version": "3.7.3"
  }
 },
 "nbformat": 4,
 "nbformat_minor": 2
}
